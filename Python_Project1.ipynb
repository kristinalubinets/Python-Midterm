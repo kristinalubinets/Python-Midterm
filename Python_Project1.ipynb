{
  "nbformat": 4,
  "nbformat_minor": 0,
  "metadata": {
    "colab": {
      "name": "Untitled2.ipynb",
      "provenance": [],
      "authorship_tag": "ABX9TyMIUHIZB18SVRzhDQSfoNC2",
      "include_colab_link": true
    },
    "kernelspec": {
      "name": "python3",
      "display_name": "Python 3"
    }
  },
  "cells": [
    {
      "cell_type": "markdown",
      "metadata": {
        "id": "view-in-github",
        "colab_type": "text"
      },
      "source": [
        "<a href=\"https://colab.research.google.com/github/kristinalubinets/Python-Midterm/blob/main/Untitled2.ipynb\" target=\"_parent\"><img src=\"https://colab.research.google.com/assets/colab-badge.svg\" alt=\"Open In Colab\"/></a>"
      ]
    },
    {
      "cell_type": "code",
      "metadata": {
        "colab": {
          "base_uri": "https://localhost:8080/"
        },
        "id": "UwWHNzoDwHIO",
        "outputId": "bca7f023-827c-4b31-c5cb-aae2e1804ae7"
      },
      "source": [
        "print('Please enter ROCK, PAPER, or SCISSORS: ')\r\n",
        "x = input()\r\n",
        "x = x.lower()\r\n",
        "print('Please another choice_ ROCK, PAPER, or SCISSORS: ')\r\n",
        "y = input()\r\n",
        "y = y.lower()\r\n",
        "if x == 'rock' and y == 'scissors':\r\n",
        "  print(\"The first player won!\") \r\n",
        "elif x == 'scissors' and y == 'paper':\r\n",
        "  print(\"The first player won!\")\r\n",
        "elif x == 'paper' and y == 'rock':\r\n",
        "  print(\"The first player won!\")\r\n",
        "elif x == 'scissors' and y == 'rock':\r\n",
        "  print(\"The second player won!\") \r\n",
        "elif x == 'paper' and y == 'scissors':\r\n",
        "  print(\"The second player won!\")\r\n",
        "elif x == 'rock' and y == 'paper':\r\n",
        "  print(\"The second player won!\")\r\n",
        "else:\r\n",
        "  print(\"It's a tie!\")"
      ],
      "execution_count": 9,
      "outputs": [
        {
          "output_type": "stream",
          "text": [
            "Please enter ROCK, PAPER, or SCISSORS: \n",
            "ROCK\n",
            "Please another choice_ ROCK, PAPER, or SCISSORS: \n",
            "PAPER\n",
            "The second player won!\n"
          ],
          "name": "stdout"
        }
      ]
    }
  ]
}
