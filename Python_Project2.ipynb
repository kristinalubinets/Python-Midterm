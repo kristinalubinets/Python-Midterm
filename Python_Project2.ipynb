{
  "nbformat": 4,
  "nbformat_minor": 0,
  "metadata": {
    "colab": {
      "name": "Untitled1.ipynb",
      "provenance": [],
      "authorship_tag": "ABX9TyNADCZ0CbMuupX/TmAMIwSU",
      "include_colab_link": true
    },
    "kernelspec": {
      "name": "python3",
      "display_name": "Python 3"
    }
  },
  "cells": [
    {
      "cell_type": "markdown",
      "metadata": {
        "id": "view-in-github",
        "colab_type": "text"
      },
      "source": [
        "<a href=\"https://colab.research.google.com/github/kristinalubinets/Python-Midterm/blob/main/Untitled1.ipynb\" target=\"_parent\"><img src=\"https://colab.research.google.com/assets/colab-badge.svg\" alt=\"Open In Colab\"/></a>"
      ]
    },
    {
      "cell_type": "code",
      "metadata": {
        "colab": {
          "base_uri": "https://localhost:8080/"
        },
        "id": "dzTlHrJrozLe",
        "outputId": "65f8d9ec-9d59-46d1-cbc1-76ec0527257e"
      },
      "source": [
        "print('Please enter a NUMBER: ')\r\n",
        "x = int(input())\r\n",
        "if x % 2 == 1:\r\n",
        "  print('This is an odd number - ' + str(x))\r\n",
        "elif x % 2 == 0:\r\n",
        "  print('This is an EVEN number - ' + str(x))\r\n",
        "  if x % 4 == 0:\r\n",
        "    print('The NUMBER ' + str(x) + ' can be devided by 4')\r\n",
        "\r\n",
        "'''print('Please enter a number for devision: ')\r\n",
        "num = int(input())\r\n",
        "print('Please enter another number: ')\r\n",
        "check = int(input())\r\n",
        "if check % num == 0:\r\n",
        "    print('Your numbers can be devided evently!')\r\n",
        "else:\r\n",
        "    print('Your numbers CANNOT Be devided evently!')'''\r\n"
      ],
      "execution_count": 13,
      "outputs": [
        {
          "output_type": "stream",
          "text": [
            "Please enter a NUMBER: \n",
            "12\n",
            "This is an EVEN number - 12\n",
            "The NUMBER 12 can be devided by 4\n"
          ],
          "name": "stdout"
        }
      ]
    }
  ]
}
